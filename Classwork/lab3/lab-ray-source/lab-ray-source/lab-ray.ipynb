{
 "cells": [
  {
   "cell_type": "markdown",
   "id": "29fc23d010892547",
   "metadata": {
    "collapsed": false
   },
   "source": [
    "# AGH DS Laboratory 3 - Actor Model with Ray Framework\n",
    "\n",
    "## Introduction\n",
    "\n",
    "Ray is a general-purpose framework for programming a cluster made by UC Berkeley's RISELab. It enables developers to easily parallelize their Python applications or build new ones, and run them at any scale, from a laptop to a large cluster. It also provides a highly flexible, yet minimalist and easy to use API. \n",
    "\n",
    "#### Documentation Reference Links:\n",
    "\n",
    "Ray official website: https://rise.cs.berkeley.edu/projects/ray/\n",
    "\n",
    "Ray documentation website: http://ray.readthedocs.io/en/latest/\n",
    "\n",
    "GitHub repository: https://github.com/ray-project/ray\n",
    "\n",
    "### Installation\n",
    "Please follow the instructions:\n",
    "\n",
    "Installation: https://docs.ray.io/en/latest/ray-overview/installation.html\n"
   ]
  },
  {
   "cell_type": "markdown",
   "id": "997d0555744a1e39",
   "metadata": {
    "collapsed": false
   },
   "source": [
    "***\n",
    "## Part 1 - Remote Functions\n",
    "\n",
    "This script is too slow, and the computation is embarrassingly parallel. In this exercise, you will use Ray to execute the functions in parallel to speed it up.\n",
    "\n",
    "The standard way to turn a Python function into a remote function is to add the `@ray.remote` decorator. Here is an example.\n",
    "\n",
    "```python\n",
    "# A regular Python function.\n",
    "def regular_function(x):\n",
    "    return x + 1\n",
    "\n",
    "# A Ray remote function.\n",
    "@ray.remote\n",
    "def remote_function(x):\n",
    "    return x + 1\n",
    "```\n",
    "\n",
    "The differences are the following:\n",
    "\n",
    "1. **Invocation:** The regular version is called with `regular_function(1)`, whereas the remote version is called with `remote_function.remote(1)`.\n",
    "2. **Return values:** `regular_function` immediately executes and returns `1`, whereas `remote_function` immediately returns an object ID (a future) and then creates a task that will be executed on a worker process. The result can be obtained with `ray.get`.\n",
    "    ```python\n",
    "    >>> regular_function(0)\n",
    "    1\n",
    "    \n",
    "    >>> remote_function.remote(0)\n",
    "    ObjectID(1c80d6937802cd7786ad25e50caf2f023c95e350)\n",
    "    \n",
    "    >>> ray.get(remote_function.remote(0))\n",
    "    1\n",
    "    ```\n",
    "3. **Parallelism:** Invocations of `regular_function` happen **serially**, for example\n",
    "    ```python\n",
    "    # These happen serially.\n",
    "    for _ in range(4):\n",
    "        regular_function(0)\n",
    "    ```\n",
    "    whereas invocations of `remote_function` happen in **parallel**, for example\n",
    "    ```python\n",
    "    # These happen in parallel.\n",
    "    for _ in range(4):\n",
    "        remote_function.remote(0)\n",
    "    ```"
   ]
  },
  {
   "cell_type": "code",
   "execution_count": 1,
   "id": "191f3b456acd32fc",
   "metadata": {
    "collapsed": false
   },
   "outputs": [],
   "source": [
    "from __future__ import absolute_import\n",
    "from __future__ import division\n",
    "from __future__ import print_function\n",
    "\n",
    "import ray\n",
    "import time\n",
    "import numpy as np\n",
    "from numpy import random\n",
    "import os\n",
    "import pickle"
   ]
  },
  {
   "cell_type": "markdown",
   "id": "97096b3f4c6c556c",
   "metadata": {
    "collapsed": false
   },
   "source": [
    "Start Ray. By default, Ray does not schedule more tasks concurrently than there are CPUs. This example requires four tasks to run concurrently, so we tell Ray that there are four CPUs. Usually this is not done and Ray computes the number of CPUs using `psutil.cpu_count()`. The argument `ignore_reinit_error=True` just ignores errors if the cell is run multiple times.\n",
    "\n",
    "The call to `ray.init` starts a number of processes."
   ]
  },
  {
   "cell_type": "code",
   "execution_count": 2,
   "id": "ef22f58f35121d5d",
   "metadata": {
    "collapsed": false
   },
   "outputs": [
    {
     "name": "stderr",
     "output_type": "stream",
     "text": [
      "2024-03-27 21:55:10,496\tINFO worker.py:1364 -- Connecting to existing Ray cluster at address: 127.0.0.1:6379...\n",
      "2024-03-27 21:55:10,514\tINFO worker.py:1544 -- Connected to Ray cluster. View the dashboard at \u001b[1m\u001b[32m127.0.0.1:8265 \u001b[39m\u001b[22m\n"
     ]
    },
    {
     "data": {
      "text/html": [
       "<div>\n",
       "    <div style=\"margin-left: 50px;display: flex;flex-direction: row;align-items: center\">\n",
       "        <h3 style=\"color: var(--jp-ui-font-color0)\">Ray</h3>\n",
       "        <svg version=\"1.1\" id=\"ray\" width=\"3em\" viewBox=\"0 0 144.5 144.6\" style=\"margin-left: 3em;margin-right: 3em\">\n",
       "            <g id=\"layer-1\">\n",
       "                <path fill=\"#00a2e9\" class=\"st0\" d=\"M97.3,77.2c-3.8-1.1-6.2,0.9-8.3,5.1c-3.5,6.8-9.9,9.9-17.4,9.6S58,88.1,54.8,81.2c-1.4-3-3-4-6.3-4.1\n",
       "                    c-5.6-0.1-9.9,0.1-13.1,6.4c-3.8,7.6-13.6,10.2-21.8,7.6C5.2,88.4-0.4,80.5,0,71.7c0.1-8.4,5.7-15.8,13.8-18.2\n",
       "                    c8.4-2.6,17.5,0.7,22.3,8c1.3,1.9,1.3,5.2,3.6,5.6c3.9,0.6,8,0.2,12,0.2c1.8,0,1.9-1.6,2.4-2.8c3.5-7.8,9.7-11.8,18-11.9\n",
       "                    c8.2-0.1,14.4,3.9,17.8,11.4c1.3,2.8,2.9,3.6,5.7,3.3c1-0.1,2,0.1,3,0c2.8-0.5,6.4,1.7,8.1-2.7s-2.3-5.5-4.1-7.5\n",
       "                    c-5.1-5.7-10.9-10.8-16.1-16.3C84,38,81.9,37.1,78,38.3C66.7,42,56.2,35.7,53,24.1C50.3,14,57.3,2.8,67.7,0.5\n",
       "                    C78.4-2,89,4.7,91.5,15.3c0.1,0.3,0.1,0.5,0.2,0.8c0.7,3.4,0.7,6.9-0.8,9.8c-1.7,3.2-0.8,5,1.5,7.2c6.7,6.5,13.3,13,19.8,19.7\n",
       "                    c1.8,1.8,3,2.1,5.5,1.2c9.1-3.4,17.9-0.6,23.4,7c4.8,6.9,4.6,16.1-0.4,22.9c-5.4,7.2-14.2,9.9-23.1,6.5c-2.3-0.9-3.5-0.6-5.1,1.1\n",
       "                    c-6.7,6.9-13.6,13.7-20.5,20.4c-1.8,1.8-2.5,3.2-1.4,5.9c3.5,8.7,0.3,18.6-7.7,23.6c-7.9,5-18.2,3.8-24.8-2.9\n",
       "                    c-6.4-6.4-7.4-16.2-2.5-24.3c4.9-7.8,14.5-11,23.1-7.8c3,1.1,4.7,0.5,6.9-1.7C91.7,98.4,98,92.3,104.2,86c1.6-1.6,4.1-2.7,2.6-6.2\n",
       "                    c-1.4-3.3-3.8-2.5-6.2-2.6C99.8,77.2,98.9,77.2,97.3,77.2z M72.1,29.7c5.5,0.1,9.9-4.3,10-9.8c0-0.1,0-0.2,0-0.3\n",
       "                    C81.8,14,77,9.8,71.5,10.2c-5,0.3-9,4.2-9.3,9.2c-0.2,5.5,4,10.1,9.5,10.3C71.8,29.7,72,29.7,72.1,29.7z M72.3,62.3\n",
       "                    c-5.4-0.1-9.9,4.2-10.1,9.7c0,0.2,0,0.3,0,0.5c0.2,5.4,4.5,9.7,9.9,10c5.1,0.1,9.9-4.7,10.1-9.8c0.2-5.5-4-10-9.5-10.3\n",
       "                    C72.6,62.3,72.4,62.3,72.3,62.3z M115,72.5c0.1,5.4,4.5,9.7,9.8,9.9c5.6-0.2,10-4.8,10-10.4c-0.2-5.4-4.6-9.7-10-9.7\n",
       "                    c-5.3-0.1-9.8,4.2-9.9,9.5C115,72.1,115,72.3,115,72.5z M19.5,62.3c-5.4,0.1-9.8,4.4-10,9.8c-0.1,5.1,5.2,10.4,10.2,10.3\n",
       "                    c5.6-0.2,10-4.9,9.8-10.5c-0.1-5.4-4.5-9.7-9.9-9.6C19.6,62.3,19.5,62.3,19.5,62.3z M71.8,134.6c5.9,0.2,10.3-3.9,10.4-9.6\n",
       "                    c0.5-5.5-3.6-10.4-9.1-10.8c-5.5-0.5-10.4,3.6-10.8,9.1c0,0.5,0,0.9,0,1.4c-0.2,5.3,4,9.8,9.3,10\n",
       "                    C71.6,134.6,71.7,134.6,71.8,134.6z\"/>\n",
       "            </g>\n",
       "        </svg>\n",
       "        <table>\n",
       "            <tr>\n",
       "                <td style=\"text-align: left\"><b>Python version:</b></td>\n",
       "                <td style=\"text-align: left\"><b>3.9.13</b></td>\n",
       "            </tr>\n",
       "            <tr>\n",
       "                <td style=\"text-align: left\"><b>Ray version:</b></td>\n",
       "                <td style=\"text-align: left\"><b> 2.3.1</b></td>\n",
       "            </tr>\n",
       "            <tr>\n",
       "    <td style=\"text-align: left\"><b>Dashboard:</b></td>\n",
       "    <td style=\"text-align: left\"><b><a href=\"http://127.0.0.1:8265\" target=\"_blank\">http://127.0.0.1:8265</a></b></td>\n",
       "</tr>\n",
       "\n",
       "        </table>\n",
       "    </div>\n",
       "</div>\n"
      ],
      "text/plain": [
       "RayContext(dashboard_url='127.0.0.1:8265', python_version='3.9.13', ray_version='2.3.1', ray_commit='5f14cee8dfc6d61ec4fd3bc2c440f9944e92b33a', address_info={'node_ip_address': '127.0.0.1', 'raylet_ip_address': '127.0.0.1', 'redis_address': None, 'object_store_address': 'tcp://127.0.0.1:58512', 'raylet_socket_name': 'tcp://127.0.0.1:58274', 'webui_url': '127.0.0.1:8265', 'session_dir': 'C:\\\\Users\\\\basia\\\\AppData\\\\Local\\\\Temp\\\\ray\\\\session_2024-03-27_21-55-03_650845_22272', 'metrics_export_port': 51766, 'gcs_address': '127.0.0.1:6379', 'address': '127.0.0.1:6379', 'dashboard_agent_listen_port': 52365, 'node_id': 'e1cacf08fd8ff146607846abc96ef08a76e6ef1eaf8e02fdc7e97b69'})"
      ]
     },
     "execution_count": 2,
     "metadata": {},
     "output_type": "execute_result"
    }
   ],
   "source": [
    "if ray.is_initialized:\n",
    "    ray.shutdown()\n",
    "ray.init(ignore_reinit_error=True)"
   ]
  },
  {
   "cell_type": "code",
   "execution_count": 4,
   "id": "fb85268744fc62ba",
   "metadata": {
    "collapsed": false
   },
   "outputs": [],
   "source": [
    "# This function is a proxy for a more interesting and computationally\n",
    "# intensive function.\n",
    "\n",
    "# def slow_function(i):\n",
    "#     time.sleep(1)\n",
    "#     return i\n",
    "\n",
    "@ray.remote\n",
    "def slow_function(i):\n",
    "    time.sleep(1)\n",
    "    return i\n"
   ]
  },
  {
   "cell_type": "markdown",
   "id": "5c4646fb8e9d5f93",
   "metadata": {
    "collapsed": false
   },
   "source": [
    "**EXERCISE:** The loop below takes too long. The four function calls could be executed in parallel. Instead of four seconds, it should only take one second. Once `slow_function` has been made a remote function, execute these four tasks in parallel by calling `slow_function.remote()`. Then obtain the results by calling `ray.get` on a list of the resulting object IDs."
   ]
  },
  {
   "cell_type": "code",
   "execution_count": 7,
   "id": "ca6151ffe5a4383e",
   "metadata": {
    "collapsed": false
   },
   "outputs": [
    {
     "name": "stdout",
     "output_type": "stream",
     "text": [
      "The results are [0, 1, 2, 3]. This took 1.01645827293396 seconds. Run the next cell to see if the exercise was done correctly.\n"
     ]
    }
   ],
   "source": [
    "# Sleep a little to improve the accuracy of the timing measurements below.\n",
    "# We do this because workers may still be starting up in the background.\n",
    "time.sleep(2.0)\n",
    "start_time = time.time()\n",
    "\n",
    "# :(\n",
    "# results = [slow_function(i) for i in range(4)]\n",
    "\n",
    "# :)\n",
    "results = ray.get([slow_function.remote(i) for i in range(4)])\n",
    "\n",
    "end_time = time.time()\n",
    "duration = end_time - start_time\n",
    "\n",
    "print('The results are {}. This took {} seconds. Run the next cell to see '\n",
    "      'if the exercise was done correctly.'.format(results, duration))"
   ]
  },
  {
   "cell_type": "markdown",
   "id": "e07bc6009fe78751",
   "metadata": {
    "collapsed": false
   },
   "source": [
    "**VERIFY:** Run some checks to verify that the changes you made to the code were correct. Some of the checks should fail when you initially run the cells. After completing the exercises, the checks should pass."
   ]
  },
  {
   "cell_type": "code",
   "execution_count": 8,
   "id": "90ebedc34cecbb95",
   "metadata": {
    "collapsed": false
   },
   "outputs": [
    {
     "name": "stdout",
     "output_type": "stream",
     "text": [
      "Success! The example took 1.01645827293396 seconds.\n"
     ]
    }
   ],
   "source": [
    "assert results == [0, 1, 2, 3], 'Did you remember to call ray.get?'\n",
    "assert duration < 1.1, ('The loop took {} seconds. This is too slow.'\n",
    "                        .format(duration))\n",
    "assert duration > 1, ('The loop took {} seconds. This is too fast.'\n",
    "                      .format(duration))\n",
    "\n",
    "print('Success! The example took {} seconds.'.format(duration))"
   ]
  },
  {
   "cell_type": "markdown",
   "id": "60138313f53b48a3",
   "metadata": {
    "collapsed": false
   },
   "source": [
    "** Example Generating Fibonnaci series **\n",
    "Let's define two functions: one runs locally or serially, the other runs on a Ray cluster (local or remote). Please implment it"
   ]
  },
  {
   "cell_type": "code",
   "execution_count": 9,
   "id": "5dfc292ebb5a982b",
   "metadata": {
    "collapsed": false
   },
   "outputs": [],
   "source": [
    "# Function for local fibonacci computation\n",
    "def generate_fibonacci(sequence_size):\n",
    "    # return length of table with generated fibonnachi numbers \n",
    "    fibonacci = []\n",
    "    for i in range(0, sequence_size):\n",
    "        if i < 2:\n",
    "            fibonacci.append(i)\n",
    "            continue\n",
    "        fibonacci.append(fibonacci[i - 1] + fibonacci[i - 2])\n",
    "    return len(fibonacci)\n",
    "\n",
    "\n",
    "# Function for remote Ray task with just a wrapper\n",
    "@ray.remote\n",
    "def generate_fibonacci_distributed(sequence_size):\n",
    "    return generate_fibonacci(sequence_size)"
   ]
  },
  {
   "cell_type": "code",
   "execution_count": 10,
   "id": "22a15f29d14df7b6",
   "metadata": {
    "collapsed": false
   },
   "outputs": [
    {
     "data": {
      "text/plain": [
       "8"
      ]
     },
     "execution_count": 10,
     "metadata": {},
     "output_type": "execute_result"
    }
   ],
   "source": [
    "# Get the number of cores for better parralelism\n",
    "os.cpu_count()"
   ]
  },
  {
   "cell_type": "code",
   "execution_count": 12,
   "id": "9cbd8721a3c6ff94",
   "metadata": {
    "collapsed": false
   },
   "outputs": [
    {
     "name": "stdout",
     "output_type": "stream",
     "text": [
      "CPU times: total: 17.8 s\n",
      "Wall time: 19.4 s\n"
     ]
    },
    {
     "data": {
      "text/plain": [
       "[200000, 200000, 200000, 200000, 200000, 200000, 200000, 200000]"
      ]
     },
     "execution_count": 12,
     "metadata": {},
     "output_type": "execute_result"
    }
   ],
   "source": [
    "# Normal Python in a single process\n",
    "def run_local(sequence_size):\n",
    "    results = [generate_fibonacci(sequence_size) for _ in range(os.cpu_count())]\n",
    "    return results\n",
    "\n",
    "SEQUENCE_SIZE = 200000\n",
    "%time run_local(SEQUENCE_SIZE)\n"
   ]
  },
  {
   "cell_type": "code",
   "execution_count": 14,
   "id": "667b6946b4641f33",
   "metadata": {
    "collapsed": false
   },
   "outputs": [
    {
     "name": "stdout",
     "output_type": "stream",
     "text": [
      "CPU times: total: 78.1 ms\n",
      "Wall time: 15.9 s\n"
     ]
    },
    {
     "data": {
      "text/plain": [
       "[200000, 200000, 200000, 200000, 200000, 200000, 200000, 200000]"
      ]
     },
     "execution_count": 14,
     "metadata": {},
     "output_type": "execute_result"
    }
   ],
   "source": [
    "# Distributed on a Ray cluster\n",
    "def run_remote(sequence_size):\n",
    "    results = ray.get([generate_fibonacci_distributed.remote(sequence_size) for _ in range(os.cpu_count())])\n",
    "    return results\n",
    "\n",
    "%time run_remote(SEQUENCE_SIZE)"
   ]
  },
  {
   "cell_type": "markdown",
   "id": "5955a53ffcf75185",
   "metadata": {
    "collapsed": false
   },
   "source": [
    "***\n",
    "## Part 2 - Parallel Data Processing with Task Dependencies\n",
    "\n",
    "**GOAL:** The goal of this exercise is to show how to pass object IDs into remote functions to encode dependencies between tasks.\n",
    "\n",
    "In this exercise, we construct a sequence of tasks each of which depends on the previous mimicking a data parallel application. Within each sequence, tasks are executed serially, but multiple sequences can be executed in parallel.\n",
    "\n",
    "In this exercise, you will use Ray to parallelize the computation below and speed it up.\n",
    "\n",
    "### Concept for this Exercise - Task Dependencies\n",
    "\n",
    "Suppose we have two remote functions defined as follows.\n",
    "\n",
    "```python\n",
    "@ray.remote\n",
    "def f(x):\n",
    "    return x\n",
    "```\n",
    "\n",
    "Arguments can be passed into remote functions as usual.\n",
    "\n",
    "```python\n",
    ">>> x1_id = f.remote(1)\n",
    ">>> ray.get(x1_id)\n",
    "1\n",
    "\n",
    ">>> x2_id = f.remote([1, 2, 3])\n",
    ">>> ray.get(x2_id)\n",
    "[1, 2, 3]\n",
    "```\n",
    "\n",
    "**Object IDs** can also be passed into remote functions. When the function actually gets executed, **the argument will be a retrieved as a regular Python object**.\n",
    "\n",
    "```python\n",
    ">>> y1_id = f.remote(x1_id)\n",
    ">>> ray.get(y1_id)\n",
    "1\n",
    "\n",
    ">>> y2_id = f.remote(x2_id)\n",
    ">>> ray.get(y2_id)\n",
    "[1, 2, 3]\n",
    "```\n",
    "\n",
    "So when implementing a remote function, the function should expect a regular Python object regardless of whether the caller passes in a regular Python object or an object ID.\n",
    "\n",
    "**Task dependencies affect scheduling.** In the example above, the task that creates `y1_id` depends on the task that creates `x1_id`. This has the following implications.\n",
    "\n",
    "- The second task will not be executed until the first task has finished executing.\n",
    "- If the two tasks are scheduled on different machines, the output of the first task (the value corresponding to `x1_id`) will be copied over the network to the machine where the second task is scheduled.\n"
   ]
  },
  {
   "cell_type": "markdown",
   "id": "b88e887feff3e438",
   "metadata": {
    "collapsed": false
   },
   "source": [
    "These are some helper functions that mimic an example pattern of a data parallel application.\n",
    "\n",
    "**EXERCISE:** You will need to turn all of these functions into remote functions. When you turn these functions into remote function, you do not have to worry about whether the caller passes in an object ID or a regular object. In both cases, the arguments will be regular objects when the function executes. This means that even if you pass in an object ID, you **do not need to call `ray.get`** inside of these remote functions."
   ]
  },
  {
   "cell_type": "code",
   "execution_count": 15,
   "id": "8b739cc28319de38",
   "metadata": {
    "collapsed": false
   },
   "outputs": [],
   "source": [
    "# def load_data(filename):\n",
    "#     time.sleep(0.1)\n",
    "#     return np.ones((1000, 100))\n",
    "\n",
    "# def normalize_data(data):\n",
    "#     time.sleep(0.1)\n",
    "#     return data - np.mean(data, axis=0)\n",
    "\n",
    "# def extract_features(normalized_data):\n",
    "#     time.sleep(0.1)\n",
    "#     return np.hstack([normalized_data, normalized_data ** 2])\n",
    "\n",
    "# def compute_loss(features):\n",
    "#     num_data, dim = features.shape\n",
    "#     time.sleep(0.1)\n",
    "#     return np.sum((np.dot(features, np.ones(dim)) - np.ones(num_data)) ** 2)\n",
    "\n",
    "@ray.remote\n",
    "def load_data(filename):\n",
    "    time.sleep(0.1)\n",
    "    return np.ones((1000, 100))\n",
    "\n",
    "\n",
    "@ray.remote\n",
    "def normalize_data(data):\n",
    "    time.sleep(0.1)\n",
    "    return data - np.mean(data, axis=0)\n",
    "\n",
    "\n",
    "@ray.remote\n",
    "def extract_features(normalized_data):\n",
    "    time.sleep(0.1)\n",
    "    return np.hstack([normalized_data, normalized_data ** 2])\n",
    "\n",
    "\n",
    "@ray.remote\n",
    "def compute_loss(features):\n",
    "    num_data, dim = features.shape\n",
    "    time.sleep(0.1)\n",
    "    return np.sum((np.dot(features, np.ones(dim)) - np.ones(num_data)) ** 2)\n",
    "\n",
    "assert hasattr(load_data, 'remote'), 'load_data must be a remote function'\n",
    "assert hasattr(normalize_data, 'remote'), 'normalize_data must be a remote function'\n",
    "assert hasattr(extract_features, 'remote'), 'extract_features must be a remote function'\n",
    "assert hasattr(compute_loss, 'remote'), 'compute_loss must be a remote function'"
   ]
  },
  {
   "cell_type": "markdown",
   "id": "6f031d1ddeb96bc2",
   "metadata": {
    "collapsed": false
   },
   "source": [
    "**EXERCISE:** The loop below takes too long. Parallelize the four passes through the loop by turning `load_data`, `normalize_data`, `extract_features`, and `compute_loss` into remote functions and then retrieving the losses with `ray.get`.\n",
    "\n",
    "**NOTE:** You should only use **ONE** call to `ray.get`. For example, the object ID returned by `load_data` should be passed directly into `normalize_data` without needing to be retrieved by the driver."
   ]
  },
  {
   "cell_type": "code",
   "execution_count": 20,
   "id": "5f11fd817ae6b435",
   "metadata": {
    "collapsed": false
   },
   "outputs": [
    {
     "name": "stdout",
     "output_type": "stream",
     "text": [
      "The losses are [1000.0, 1000.0, 1000.0, 1000.0].\n",
      "\n",
      "The loss is 4000.0. This took 0.4885866641998291 seconds. Run the next cell to see if the exercise was done correctly.\n"
     ]
    }
   ],
   "source": [
    "# Sleep a little to improve the accuracy of the timing measurements below.\n",
    "time.sleep(2.0)\n",
    "start_time = time.time()\n",
    "\n",
    "losses = []\n",
    "for filename in ['file1', 'file2', 'file3', 'file4']:\n",
    "    inner_start = time.time()\n",
    "\n",
    "    # :(\n",
    "    # data = load_data(filename)\n",
    "    # normalized_data = normalize_data(data)\n",
    "    # features = extract_features(normalized_data)\n",
    "    # loss = compute_loss(features)\n",
    "    # losses.append(loss)\n",
    "    \n",
    "\n",
    "    # :)\n",
    "    data_id = load_data.remote(filename)\n",
    "    normalized_data_id = normalize_data.remote(data_id)\n",
    "    features_id = extract_features.remote(normalized_data_id)\n",
    "    loss_id = compute_loss.remote(features_id)\n",
    "    losses.append(loss_id)\n",
    "    \n",
    "    inner_end = time.time()\n",
    "    \n",
    "    if inner_end - inner_start >= 0.1:\n",
    "        raise Exception('You may be calling ray.get inside of the for loop! '\n",
    "                        'Doing this will prevent parallelism from being exposed. '\n",
    "                        'Make sure to only call ray.get once outside of the for loop.')\n",
    "\n",
    "losses = ray.get(losses)\n",
    "print('The losses are {}.'.format(losses) + '\\n')\n",
    "loss = sum(losses)\n",
    "\n",
    "end_time = time.time()\n",
    "duration = end_time - start_time\n",
    "\n",
    "print('The loss is {}. This took {} seconds. Run the next cell to see '\n",
    "      'if the exercise was done correctly.'.format(loss, duration))"
   ]
  },
  {
   "cell_type": "markdown",
   "id": "bbfac1ca0c96db37",
   "metadata": {
    "collapsed": false
   },
   "source": [
    "**VERIFY:** Run some checks to verify that the changes you made to the code were correct. Some of the checks should fail when you initially run the cells. After completing the exercises, the checks should pass."
   ]
  },
  {
   "cell_type": "code",
   "execution_count": 21,
   "id": "a4cb48fa6fc3671e",
   "metadata": {
    "collapsed": false
   },
   "outputs": [
    {
     "name": "stdout",
     "output_type": "stream",
     "text": [
      "Success! The example took 0.4885866641998291 seconds.\n"
     ]
    }
   ],
   "source": [
    "assert loss == 4000\n",
    "assert duration < 0.8, ('The loop took {} seconds. This is too slow.'\n",
    "                        .format(duration))\n",
    "assert duration > 0.4, ('The loop took {} seconds. This is too fast.'\n",
    "                        .format(duration))\n",
    "\n",
    "print('Success! The example took {} seconds.'.format(duration))"
   ]
  },
  {
   "cell_type": "markdown",
   "id": "6750753a1dd13313",
   "metadata": {
    "collapsed": false
   },
   "source": [
    "***\n",
    "## Part 3 - Introducing Actors\n",
    "\n",
    "**Goal:** The goal of this exercise is to show how to create an actor and how to call actor methods.\n",
    "\n",
    "See the documentation on actors at http://ray.readthedocs.io/en/latest/actors.html.\n",
    "\n",
    "Sometimes you need a \"worker\" process to have \"state\". For example, that state might be a neural network, a simulator environment, a counter, or something else entirely. However, remote functions are side-effect free. That is, they operate on inputs and produce outputs, but they don't change the state of the worker they execute on.\n",
    "\n",
    "Actors are different. When we instantiate an actor, a brand new worker is created, and all methods that are called on that actor are executed on the newly created worker.\n",
    "\n",
    "This means that with a single actor, no parallelism can be achieved because calls to the actor's methods will be executed one at a time. However, multiple actors can be created and methods can be executed on them in parallel.\n",
    "\n",
    "### Concepts for this Exercise - Actors\n",
    "\n",
    "To create an actor, decorate Python class with the `@ray.remote` decorator.\n",
    "\n",
    "```python\n",
    "@ray.remote\n",
    "class Example(object):\n",
    "    def __init__(self, x):\n",
    "        self.x = x\n",
    "    \n",
    "    def set(self, x):\n",
    "        self.x = x\n",
    "    \n",
    "    def get(self):\n",
    "        return self.x\n",
    "```\n",
    "\n",
    "Like regular Python classes, **actors encapsulate state that is shared across actor method invocations**.\n",
    "\n",
    "Actor classes differ from regular Python classes in the following ways.\n",
    "1. **Instantiation:** A regular class would be instantiated via `e = Example(1)`. Actors are instantiated via\n",
    "    ```python\n",
    "    e = Example.remote(1)\n",
    "    ```\n",
    "    When an actor is instantiated, a **new worker process** is created by a local scheduler somewhere in the cluster.\n",
    "2. **Method Invocation:** Methods of a regular class would be invoked via `e.set(2)` or `e.get()`. Actor methods are invoked differently.\n",
    "    ```python\n",
    "    >>> e.set.remote(2)\n",
    "    ObjectID(d966aa9b6486331dc2257522734a69ff603e5a1c)\n",
    "    \n",
    "    >>> e.get.remote()\n",
    "    ObjectID(7c432c085864ed4c7c18cf112377a608676afbc3)\n",
    "    ```\n",
    "3. **Return Values:** Actor methods are non-blocking. They immediately return an object ID and **they create a task which is scheduled on the actor worker**. The result can be retrieved with `ray.get`.\n",
    "    ```python\n",
    "    >>> ray.get(e.set.remote(2))\n",
    "    None\n",
    "    \n",
    "    >>> ray.get(e.get.remote())\n",
    "    2\n",
    "    ```"
   ]
  },
  {
   "cell_type": "markdown",
   "id": "136d2f7e4b154088",
   "metadata": {
    "collapsed": false
   },
   "source": [
    "**EXERCISE:** Change the `Foo` class to be an actor class by using the `@ray.remote` decorator."
   ]
  },
  {
   "cell_type": "code",
   "execution_count": 22,
   "id": "e027e2a2af11648e",
   "metadata": {
    "collapsed": false
   },
   "outputs": [],
   "source": [
    "# class Foo(object):\n",
    "#     def __init__(self):\n",
    "#         self.counter = 0\n",
    "\n",
    "#     def reset(self):\n",
    "#         self.counter = 0\n",
    "\n",
    "#     def increment(self):\n",
    "#         time.sleep(0.5)\n",
    "#         self.counter += 1\n",
    "#         return self.counter\n",
    "\n",
    "@ray.remote\n",
    "class Foo(object):\n",
    "    def __init__(self):\n",
    "        self.counter = 0\n",
    "\n",
    "    def reset(self):\n",
    "        self.counter = 0\n",
    "\n",
    "    def increment(self):\n",
    "        time.sleep(0.5)\n",
    "        self.counter += 1\n",
    "        return self.counter\n",
    "\n",
    "assert hasattr(Foo, 'remote'), 'You need to turn \"Foo\" into an actor with @ray.remote.'"
   ]
  },
  {
   "cell_type": "markdown",
   "id": "a654a0b9ffe4d2b0",
   "metadata": {
    "collapsed": false
   },
   "source": [
    "**EXERCISE:** Change the intantiations below to create two actors by calling `Foo.remote()`."
   ]
  },
  {
   "cell_type": "code",
   "execution_count": 23,
   "id": "6b68dfb348c94076",
   "metadata": {
    "collapsed": false
   },
   "outputs": [],
   "source": [
    "# Create two Foo objects.\n",
    "# f1 = Foo()\n",
    "# f2 = Foo()\n",
    "f1 = Foo.remote()\n",
    "f2 = Foo.remote()"
   ]
  },
  {
   "cell_type": "markdown",
   "id": "eba108b7ba52ddf7",
   "metadata": {
    "collapsed": false
   },
   "source": [
    "**EXERCISE:** Parallelize the code below. The two actors can execute methods in parallel (though each actor can only execute one method at a time)."
   ]
  },
  {
   "cell_type": "code",
   "execution_count": 26,
   "id": "c537e12344716e0",
   "metadata": {
    "collapsed": false
   },
   "outputs": [
    {
     "name": "stdout",
     "output_type": "stream",
     "text": [
      "Success! The example took 2.558795213699341 seconds.\n"
     ]
    }
   ],
   "source": [
    "# Sleep a little to improve the accuracy of the timing measurements below.\n",
    "time.sleep(2.0)\n",
    "start_time = time.time()\n",
    "\n",
    "# Reset the actor state so that we can run this cell multiple times without\n",
    "# changing the results.\n",
    "# :(\n",
    "# f1.reset()\n",
    "# f2.reset()\n",
    "\n",
    "# :)\n",
    "f1.reset.remote()\n",
    "f2.reset.remote()\n",
    "\n",
    "# We want to parallelize this code. However, it is not straightforward to\n",
    "# make \"increment\" a remote function, because state is shared (the value of\n",
    "# \"self.counter\") between subsequent calls to \"increment\". In this case, it\n",
    "# makes sense to use actors.\n",
    "results = []\n",
    "for _ in range(5):\n",
    "    # :(\n",
    "    # results.append(f1.increment())\n",
    "    # results.append(f2.increment())\n",
    "\n",
    "    # :)\n",
    "    results.append(f1.increment.remote())\n",
    "    results.append(f2.increment.remote())\n",
    "\n",
    "results = ray.get(results)\n",
    "end_time = time.time()\n",
    "duration = end_time - start_time\n",
    "\n",
    "print('Success! The example took {} seconds.'.format(duration))\n",
    "\n",
    "assert not any([isinstance(result, ray.ObjectID) for result in results]), 'Looks like \"results\" is {}. You may have forgotten to call ray.get.'.format(results)"
   ]
  },
  {
   "cell_type": "markdown",
   "id": "85bf30d5a992ecc6",
   "metadata": {
    "collapsed": false
   },
   "source": [
    "**VERIFY:** Run some checks to verify that the changes you made to the code were correct. Some of the checks should fail when you initially run the cells. After completing the exercises, the checks should pass."
   ]
  },
  {
   "cell_type": "code",
   "execution_count": 27,
   "id": "b97d77030a0685c9",
   "metadata": {
    "collapsed": false
   },
   "outputs": [
    {
     "name": "stdout",
     "output_type": "stream",
     "text": [
      "Success! The example took 2.558795213699341 seconds.\n"
     ]
    }
   ],
   "source": [
    "assert results == [1, 1, 2, 2, 3, 3, 4, 4, 5, 5]\n",
    "\n",
    "assert duration < 3, ('The experiments ran in {} seconds. This is too '\n",
    "                      'slow.'.format(duration))\n",
    "assert duration > 2.5, ('The experiments ran in {} seconds. This is too '\n",
    "                        'fast.'.format(duration))\n",
    "\n",
    "print('Success! The example took {} seconds.'.format(duration))"
   ]
  },
  {
   "cell_type": "markdown",
   "id": "515b25c1cc382a7d",
   "metadata": {
    "collapsed": false
   },
   "source": [
    "***\n",
    "## Part 4 - Handling Slow Tasks\n",
    "\n",
    "**GOAL:** The goal of this exercise is to show how to use `ray.wait` to avoid waiting for slow tasks.\n",
    "\n",
    "See the documentation for ray.wait at https://docs.ray.io/en/latest/ray-core/api/doc/ray.wait.html.\n",
    "\n",
    "This script starts 6 tasks, each of which takes a random amount of time to complete. We'd like to process the results in two batches (each of size 3). Change the code so that instead of waiting for a fixed set of 3 tasks to finish, we make the first batch consist of the first 3 tasks that complete. The second batch should consist of the 3 remaining tasks. Do this exercise by using `ray.wait`.\n",
    "\n",
    "### Concepts for this Exercise - ray.wait\n",
    "\n",
    "After launching a number of tasks, you may want to know which ones have finished executing. This can be done with `ray.wait`. The function works as follows.\n",
    "\n",
    "```python\n",
    "ready_ids, remaining_ids = ray.wait(object_ids, num_returns=1, timeout=None)\n",
    "```\n",
    "\n",
    "**Arguments:**\n",
    "- `object_ids`: This is a list of object IDs.\n",
    "- `num_returns`: This is maximum number of object IDs to wait for. The default value is `1`.\n",
    "- `timeout`: This is the maximum amount of time in milliseconds to wait for. So `ray.wait` will block until either `num_returns` objects are ready or until `timeout` milliseconds have passed.\n",
    "\n",
    "**Return values:**\n",
    "- `ready_ids`: This is a list of object IDs that are available in the object store.\n",
    "- `remaining_ids`: This is a list of the IDs that were in `object_ids` but are not in `ready_ids`, so the IDs in `ready_ids` and `remaining_ids` together make up all the IDs in `object_ids`."
   ]
  },
  {
   "cell_type": "markdown",
   "id": "42a962991ebe87c9",
   "metadata": {
    "collapsed": false
   },
   "source": [
    "Define a remote function that takes a variable amount of time to run."
   ]
  },
  {
   "cell_type": "code",
   "execution_count": 29,
   "id": "f074581413569513",
   "metadata": {
    "collapsed": false
   },
   "outputs": [],
   "source": [
    "@ray.remote\n",
    "def f(i):\n",
    "    np.random.seed(5 + i)\n",
    "    x = np.random.uniform(0, 4)\n",
    "    time.sleep(x)\n",
    "    return i, time.time()"
   ]
  },
  {
   "cell_type": "markdown",
   "id": "e1d5df3925dc3632",
   "metadata": {
    "collapsed": false
   },
   "source": [
    "**EXERCISE:** Using `ray.wait`, change the code below so that `initial_results` consists of the outputs of the first three tasks to complete instead of the first three tasks that were submitted."
   ]
  },
  {
   "cell_type": "code",
   "execution_count": 36,
   "id": "8bc87828350d4f8",
   "metadata": {
    "collapsed": false
   },
   "outputs": [],
   "source": [
    "# Sleep a little to improve the accuracy of the timing measurements below.\n",
    "time.sleep(2.0)\n",
    "start_time = time.time()\n",
    "\n",
    "# This launches 6 tasks, each of which takes a random amount of time to\n",
    "# complete.\n",
    "result_ids = [f.remote(i) for i in range(6)]\n",
    "ready_ids, remaining_ids = ray.wait(result_ids, num_returns=3)\n",
    "\n",
    "\n",
    "# Get one batch of tasks. Instead of waiting for a fixed subset of tasks, we\n",
    "# should instead use the first 3 tasks that finish.\n",
    "# initial_results = ray.get(result_ids[:3])\n",
    "initial_results = ray.get(ready_ids)\n",
    "\n",
    "end_time = time.time()\n",
    "duration = end_time - start_time"
   ]
  },
  {
   "cell_type": "code",
   "execution_count": 37,
   "id": "3a373e18",
   "metadata": {},
   "outputs": [
    {
     "data": {
      "text/plain": [
       "[(0, 1711373089.10856), (2, 1711373089.5977018), (4, 1711373089.5982022)]"
      ]
     },
     "execution_count": 37,
     "metadata": {},
     "output_type": "execute_result"
    }
   ],
   "source": [
    "initial_results"
   ]
  },
  {
   "cell_type": "markdown",
   "id": "bc690fab568a7b2c",
   "metadata": {
    "collapsed": false
   },
   "source": [
    "**EXERCISE:** Change the code below so that `remaining_results` consists of the outputs of the last three tasks to complete."
   ]
  },
  {
   "cell_type": "code",
   "execution_count": 39,
   "id": "f572438b64f3109e",
   "metadata": {
    "collapsed": false
   },
   "outputs": [
    {
     "data": {
      "text/plain": [
       "[(1, 1711373092.3203552), (3, 1711373093.0612178), (5, 1711373092.3665936)]"
      ]
     },
     "execution_count": 39,
     "metadata": {},
     "output_type": "execute_result"
    }
   ],
   "source": [
    "# Wait for the remaining tasks to complete.\n",
    "# remaining_results = ray.get(result_ids[3:])\n",
    "remaining_results = ray.get(remaining_ids)\n",
    "remaining_results"
   ]
  },
  {
   "cell_type": "markdown",
   "id": "bc3963e7a331d603",
   "metadata": {
    "collapsed": false
   },
   "source": [
    "**VERIFY:** Run some checks to verify that the changes you made to the code were correct. Some of the checks should fail when you initially run the cells. After completing the exercises, the checks should pass."
   ]
  },
  {
   "cell_type": "code",
   "execution_count": 40,
   "id": "7f868867384aa5d9",
   "metadata": {
    "collapsed": false
   },
   "outputs": [
    {
     "name": "stdout",
     "output_type": "stream",
     "text": [
      "Success! The example took 1.4024012088775635 seconds.\n"
     ]
    }
   ],
   "source": [
    "assert len(initial_results) == 3\n",
    "assert len(remaining_results) == 3\n",
    "\n",
    "initial_indices = [result[0] for result in initial_results]\n",
    "initial_times = [result[1] for result in initial_results]\n",
    "remaining_indices = [result[0] for result in remaining_results]\n",
    "remaining_times = [result[1] for result in remaining_results]\n",
    "\n",
    "assert set(initial_indices + remaining_indices) == set(range(6))\n",
    "\n",
    "assert duration < 1.5, ('The initial batch of ten tasks was retrieved in '\n",
    "                        '{} seconds. This is too slow.'.format(duration))\n",
    "\n",
    "assert duration > 0.8, ('The initial batch of ten tasks was retrieved in '\n",
    "                        '{} seconds. This is too slow.'.format(duration))\n",
    "\n",
    "# Make sure the initial results actually completed first.\n",
    "assert max(initial_times) < min(remaining_times)\n",
    "\n",
    "print('Success! The example took {} seconds.'.format(duration))"
   ]
  },
  {
   "cell_type": "markdown",
   "id": "f6bb8c54778eae68",
   "metadata": {
    "collapsed": false
   },
   "source": [
    "## Part 5 - Speed up Serialization\n",
    "\n",
    "**GOAL:** The goal of this exercise is to illustrate how to speed up serialization by using `ray.put`.\n",
    "\n",
    "### Concepts for this Exercise - ray.put\n",
    "\n",
    "Object IDs can be created in multiple ways.\n",
    "- They are returned by remote function calls.\n",
    "- They are returned by actor method calls.\n",
    "- They are returned by `ray.put`.\n",
    "\n",
    "When an object is passed to `ray.put`, the object is serialized using the Apache Arrow format (see https://arrow.apache.org/ for more information about Arrow) and copied into a shared memory object store. This object will then be available to other workers on the same machine via shared memory. If it is needed by workers on another machine, it will be shipped under the hood.\n",
    "\n",
    "**When objects are passed into a remote function, Ray puts them in the object store under the hood.** That is, if `f` is a remote function, the code\n",
    "\n",
    "```python\n",
    "x = np.zeros(1000)\n",
    "f.remote(x)\n",
    "```\n",
    "\n",
    "is essentially transformed under the hood to\n",
    "\n",
    "```python\n",
    "x = np.zeros(1000)\n",
    "x_id = ray.put(x)\n",
    "f.remote(x_id)\n",
    "```\n",
    "\n",
    "The call to `ray.put` copies the numpy array into the shared-memory object store, from where it can be read by all of the worker processes (without additional copying). However, if you do something like\n",
    "\n",
    "```python\n",
    "for i in range(10):\n",
    "    f.remote(x)\n",
    "```\n",
    "\n",
    "then 10 copies of the array will be placed into the object store. This takes up more memory in the object store than is necessary, and it also takes time to copy the array into the object store over and over. This can be made more efficient by placing the array in the object store only once as follows.\n",
    "\n",
    "```python\n",
    "x_id = ray.put(x)\n",
    "for i in range(10):\n",
    "    f.remote(x_id)\n",
    "```\n",
    "\n",
    "In this exercise, you will speed up the code below and reduce the memory footprint by calling `ray.put` on the neural net weights before passing them into the remote functions.\n",
    "\n",
    "**WARNING:** This exercise requires a lot of memory to run. If this notebook is running within a Docker container, then the docker container must be started with a large shared-memory file system. This can be done by starting the docker container with the `--shm-size` flag."
   ]
  },
  {
   "cell_type": "code",
   "execution_count": 43,
   "id": "60242482e441eeeb",
   "metadata": {
    "collapsed": false
   },
   "outputs": [],
   "source": [
    "neural_net_weights = {'variable{}'.format(i): np.random.normal(size=1000000)\n",
    "                      for i in range(50)}"
   ]
  },
  {
   "cell_type": "markdown",
   "id": "5e201ddd40933862",
   "metadata": {
    "collapsed": false
   },
   "source": [
    "**EXERCISE:** Compare the time required to serialize the neural net weights and copy them into the object store using Ray versus the time required to pickle and unpickle the weights. The big win should be with the time required for *deserialization*.\n",
    "\n",
    "Note that when you call `ray.put`, in addition to serializing the object, we are copying it into shared memory where it can be efficiently accessed by other workers on the same machine.\n",
    "\n",
    "**NOTE:** You don't actually have to do anything here other than run the cell below and read the output.\n",
    "\n",
    "**NOTE:** Sometimes `ray.put` can be faster than `pickle.dumps`. This is because `ray.put` leverages multiple threads when serializing large objects. Note that this is not possible with `pickle`."
   ]
  },
  {
   "cell_type": "code",
   "execution_count": 45,
   "id": "a54d5c96fbb07160",
   "metadata": {
    "collapsed": false
   },
   "outputs": [
    {
     "name": "stdout",
     "output_type": "stream",
     "text": [
      "Ray - serializing\n",
      "CPU times: total: 516 ms\n",
      "Wall time: 166 ms\n",
      "\n",
      "Ray - deserializing\n",
      "CPU times: total: 15.6 ms\n",
      "Wall time: 2.02 ms\n",
      "\n",
      "pickle - serializing\n",
      "CPU times: total: 1.23 s\n",
      "Wall time: 1.24 s\n",
      "\n",
      "pickle - deserializing\n",
      "CPU times: total: 156 ms\n",
      "Wall time: 205 ms\n"
     ]
    }
   ],
   "source": [
    "print('Ray - serializing')\n",
    "%time x_id = ray.put(neural_net_weights)\n",
    "print('\\nRay - deserializing')\n",
    "%time x_val = ray.get(x_id)\n",
    "\n",
    "print('\\npickle - serializing')\n",
    "%time serialized = pickle.dumps(neural_net_weights)\n",
    "print('\\npickle - deserializing')\n",
    "%time deserialized = pickle.loads(serialized)"
   ]
  },
  {
   "cell_type": "markdown",
   "id": "79881ec1b5f3edab",
   "metadata": {
    "collapsed": false
   },
   "source": [
    "Define a remote function which uses the neural net weights."
   ]
  },
  {
   "cell_type": "markdown",
   "id": "83abfc8d4e9db2c2",
   "metadata": {
    "collapsed": false
   },
   "source": []
  },
  {
   "cell_type": "code",
   "execution_count": 46,
   "id": "878a4b621cc8d7f8",
   "metadata": {
    "collapsed": false
   },
   "outputs": [],
   "source": [
    "@ray.remote\n",
    "def use_weights(weights, i):\n",
    "    return i"
   ]
  },
  {
   "cell_type": "markdown",
   "id": "7490b7fc637eee85",
   "metadata": {
    "collapsed": false
   },
   "source": [
    "**EXERCISE:** In the code below, use `ray.put` to avoid copying the neural net weights to the object store multiple times."
   ]
  },
  {
   "cell_type": "code",
   "execution_count": 47,
   "id": "a64f7226e496f9d1",
   "metadata": {
    "collapsed": false
   },
   "outputs": [],
   "source": [
    "# Sleep a little to improve the accuracy of the timing measurements below.\n",
    "time.sleep(2.0)\n",
    "start_time = time.time()\n",
    "\n",
    "\n",
    "neural_net_weights_id = ray.put(neural_net_weights)\n",
    "# results = ray.get([use_weights.remote(neural_net_weights, i)\n",
    "#                    for i in range(20)])\n",
    "results = ray.get([use_weights.remote(neural_net_weights_id, i)\n",
    "                   for i in range(20)])\n",
    "\n",
    "end_time = time.time()\n",
    "duration = end_time - start_time"
   ]
  },
  {
   "cell_type": "markdown",
   "id": "ac5a46dfaf9b4496",
   "metadata": {
    "collapsed": false
   },
   "source": [
    "**VERIFY:** Run some checks to verify that the changes you made to the code were correct. Some of the checks should fail when you initially run the cells. After completing the exercises, the checks should pass."
   ]
  },
  {
   "cell_type": "code",
   "execution_count": 48,
   "id": "b487df9262dbda79",
   "metadata": {
    "collapsed": false
   },
   "outputs": [
    {
     "name": "stdout",
     "output_type": "stream",
     "text": [
      "Success! The example took 0.23165035247802734 seconds.\n"
     ]
    }
   ],
   "source": [
    "assert results == list(range(20))\n",
    "assert duration < 1, ('The experiments ran in {} seconds. This is too '\n",
    "                      'slow.'.format(duration))\n",
    "\n",
    "print('Success! The example took {} seconds.'.format(duration))"
   ]
  },
  {
   "cell_type": "code",
   "execution_count": 20,
   "id": "aa9f3cdf9f18063d",
   "metadata": {
    "collapsed": false
   },
   "outputs": [
    {
     "name": "stdout",
     "output_type": "stream",
     "text": [
      "parameter server\n",
      "Actor(ParameterSever, 6dd7fe8fe53771e36167871d01000000)\n",
      "Initial params: [0. 0. 0. 0. 0. 0. 0. 0. 0. 0.]\n",
      "[ObjectRef(9a667646e288b252ffffffffffffffffffffffff0100000001000000), ObjectRef(058595f16dc6f278ffffffffffffffffffffffff0100000001000000), ObjectRef(72482135a26f4e0fffffffffffffffffffffffff0100000001000000)]\n",
      "Updated params: [0. 0. 0. 0. 0. 0. 0. 0. 0. 0.]\n",
      "Updated params: [0. 0. 0. 0. 0. 0. 0. 0. 0. 0.]\n",
      "Updated params: [-21. -37. -43. -51. -38. -26. -20. -36. -27. -67.]\n",
      "Updated params: [ -63.  -70.  -82. -101.  -77.  -69.  -57.  -89.  -62.  -99.]\n",
      "Updated params: [ -63.  -70.  -82. -101.  -77.  -69.  -57.  -89.  -62.  -99.]\n",
      "Updated params: [ -88. -124. -127. -153. -115. -109.  -76. -155. -117. -145.]\n",
      "Updated params: [-136. -176. -168. -207. -174. -149. -132. -201. -150. -203.]\n",
      "Updated params: [-136. -176. -168. -207. -174. -149. -132. -201. -150. -203.]\n",
      "Updated params: [-156. -196. -220. -266. -195. -183. -159. -231. -187. -229.]\n",
      "Updated params: [-191. -249. -262. -301. -210. -215. -200. -281. -237. -293.]\n",
      "Updated params: [-191. -249. -262. -301. -210. -215. -200. -281. -237. -293.]\n",
      "Updated params: [-238. -305. -317. -358. -245. -253. -258. -310. -247. -301.]\n",
      "Updated params: [-283. -329. -352. -405. -278. -294. -298. -348. -285. -336.]\n",
      "Updated params: [-283. -329. -352. -405. -278. -294. -298. -348. -285. -336.]\n",
      "Updated params: [-326. -361. -375. -452. -300. -341. -358. -399. -319. -405.]\n",
      "Updated params: [-369. -406. -445. -515. -324. -388. -381. -415. -343. -447.]\n",
      "Updated params: [-369. -406. -445. -515. -324. -388. -381. -415. -343. -447.]\n",
      "Updated params: [-376. -447. -503. -554. -373. -424. -419. -474. -391. -490.]\n",
      "Updated params: [-440. -518. -562. -616. -411. -483. -436. -503. -445. -537.]\n",
      "Updated params: [-440. -518. -562. -616. -411. -483. -436. -503. -445. -537.]\n"
     ]
    }
   ],
   "source": [
    "# Example: Parameter Server distributed application with Ray Actors\n",
    "# Problem: We want to update weights and gradients, computed by workers, at a central server.\n",
    "# Let's use Python class and convert that to a remote Actor class actor as a Parameter Server.\n",
    "# This is a common example in machine learning where you have a central\n",
    "# Parameter server updating gradients from other worker processes computing individual gradients.\n",
    "\n",
    "print('parameter server')\n",
    "@ray.remote\n",
    "class ParameterSever:\n",
    "    def __init__(self):\n",
    "        # Initialized our gradients to zero\n",
    "        self.params = np.zeros(10)\n",
    "\n",
    "    def get_params(self):\n",
    "        # Return current gradients\n",
    "        return self.params\n",
    "\n",
    "    def update_params(self, grad):\n",
    "        # Update the gradients\n",
    "        self.params -= grad\n",
    "\n",
    "# Define a worker or task as a function for a remote Worker. This could be a\n",
    "# machine learning function that computes gradients and sends them to\n",
    "# the parameter server.\n",
    "\n",
    "@ray.remote\n",
    "def worker(ps):         # It takes an actor handle or instance as an argument\n",
    "    # Iterate over some epoch\n",
    "    for i in range(25):\n",
    "        time.sleep(1.5)  # this could be your loss function computing gradients\n",
    "        #grad = np.ones(10)\n",
    "        from numpy import random\n",
    "        grad = random.randint(30, size=(10))\n",
    "        # update the gradients in the parameter server\n",
    "        ps.update_params.remote(grad)\n",
    "\n",
    "# Start our Parameter Server actor. This will be scheduled as a worker process\n",
    "# on a remote Ray node. You invoke its ActorClass.remote(...) to instantiate an\n",
    "# Actor instance of that type.\n",
    "\n",
    "param_server = ParameterSever.remote()\n",
    "print(param_server)\n",
    "\n",
    "# Let's get the initial values of the parameter server\n",
    "print(f\"Initial params: {ray.get(param_server.get_params.remote())}\")\n",
    "\n",
    "# Create Workers remote tasks computing gradients\n",
    "# Let's create three separate worker tasks as our machine learning tasks\n",
    "# that compute gradients. These will be scheduled as tasks on a Ray cluster.\n",
    "\n",
    "# You can use list comprehension.\n",
    "# If we need more workers to scale, we can always bump them up.\n",
    "# Note: We are sending the parameter_server as an argument to the remote worker task.\n",
    "\n",
    "print([worker.remote(param_server) for _ in range(3)])\n",
    "\n",
    "# Now, let's iterate over a loop and query the Parameter Server as the\n",
    "# workers are running independently and updating the gradients\n",
    "\n",
    "for _i in range(20):\n",
    "    print(f\"Updated params: {ray.get(param_server.get_params.remote())}\")\n",
    "    time.sleep(1)"
   ]
  },
  {
   "cell_type": "markdown",
   "id": "56cb7c9a",
   "metadata": {},
   "source": [
    "### Pi Sampling task"
   ]
  },
  {
   "cell_type": "markdown",
   "id": "e33ffc2cadd7be89",
   "metadata": {
    "collapsed": false
   },
   "source": [
    "**Excercise:** Based on the previous example, create an actor-based system that can compute Pi using the Monte Carlo method. There should be one supervising actor and computing tasks/actors. \n",
    "\n",
    "![monte-carlo](img/monte_carlo_pi.png)\n",
    "\n",
    "Hint: take a look on https://docs.ray.io/en/latest/ray-core/examples/monte_carlo_pi.html . However, we do not want to have progress listed. Instead, we want to see as we get closer to the Pi value in each round. "
   ]
  },
  {
   "cell_type": "code",
   "execution_count": 3,
   "id": "a56e30a8",
   "metadata": {},
   "outputs": [],
   "source": [
    "NUM_SAMPLING_TASKS = 10\n",
    "NUM_SAMPLES_PER_TASK = 10_000_000\n",
    "TOTAL_NUM_SAMPLES = NUM_SAMPLING_TASKS * NUM_SAMPLES_PER_TASK"
   ]
  },
  {
   "cell_type": "code",
   "execution_count": 4,
   "id": "dc2f5b6d",
   "metadata": {},
   "outputs": [],
   "source": [
    "@ray.remote\n",
    "class ParameterServer:\n",
    "    def __init__(self, total_num_samples: int):\n",
    "        self.total_num_samples = total_num_samples\n",
    "        self.inner_counts = {}\n",
    "\n",
    "    def report_progress(self, task_id: int, inner_progress: int) -> None:\n",
    "        self.inner_counts[task_id] = inner_progress\n",
    "\n",
    "    def get_progress(self) -> float:\n",
    "        print(len(self.inner_counts.values()))\n",
    "        if len(self.inner_counts.values()) > 0:\n",
    "            return sum(self.inner_counts.values()) * 4 / self.total_num_samples\n",
    "        else:\n",
    "            return 0"
   ]
  },
  {
   "cell_type": "code",
   "execution_count": 5,
   "id": "16f77ad5",
   "metadata": {},
   "outputs": [],
   "source": [
    "import math\n",
    "\n",
    "\n",
    "@ray.remote\n",
    "def sampling_task(num_samples: int, task_id: int,\n",
    "                  progress_actor: ray.actor.ActorHandle) -> int:\n",
    "    num_inside = 0\n",
    "    for i in range(num_samples):\n",
    "        x, y = random.uniform(-1, 1), random.uniform(-1, 1)\n",
    "        if math.hypot(x, y) <= 1:\n",
    "            num_inside += 1\n",
    "\n",
    "        # Report progress every 1 million samples.\n",
    "        if (i + 1) % 1_000_000 == 0:\n",
    "            # This is async.\n",
    "            progress_actor.report_progress.remote(task_id, num_inside)\n",
    "\n",
    "    # Report the final progress.\n",
    "    progress_actor.report_progress.remote(task_id, num_inside)\n",
    "    return num_inside"
   ]
  },
  {
   "cell_type": "code",
   "execution_count": 6,
   "id": "f4bf07be",
   "metadata": {},
   "outputs": [],
   "source": [
    "# Create the progress actor.\n",
    "pi_supervisor_actor = ParameterServer.remote(TOTAL_NUM_SAMPLES)"
   ]
  },
  {
   "cell_type": "code",
   "execution_count": 7,
   "id": "f06e4e37",
   "metadata": {},
   "outputs": [
    {
     "name": "stdout",
     "output_type": "stream",
     "text": [
      "[ObjectRef(16310a0f0a45af5cffffffffffffffffffffffff0100000001000000), ObjectRef(c2668a65bda616c1ffffffffffffffffffffffff0100000001000000), ObjectRef(32d950ec0ccf9d2affffffffffffffffffffffff0100000001000000), ObjectRef(e0dc174c83599034ffffffffffffffffffffffff0100000001000000), ObjectRef(f4402ec78d3a2607ffffffffffffffffffffffff0100000001000000), ObjectRef(f91b78d7db9a6593ffffffffffffffffffffffff0100000001000000), ObjectRef(82891771158d68c1ffffffffffffffffffffffff0100000001000000), ObjectRef(8849b62d89cb30f9ffffffffffffffffffffffff0100000001000000), ObjectRef(80e22aed7718a125ffffffffffffffffffffffff0100000001000000), ObjectRef(359ec6ce30d3ca2dffffffffffffffffffffffff0100000001000000)]\n",
      "Pi: 0\n",
      "\u001b[2m\u001b[36m(ParameterServer pid=22644)\u001b[0m 0\n"
     ]
    },
    {
     "name": "stdout",
     "output_type": "stream",
     "text": [
      "Pi: 0\n",
      "\u001b[2m\u001b[36m(ParameterServer pid=22644)\u001b[0m 0\n",
      "\u001b[2m\u001b[36m(ParameterServer pid=22644)\u001b[0m 0\n",
      "Pi: 0\n",
      "Pi: 0\n",
      "\u001b[2m\u001b[36m(ParameterServer pid=22644)\u001b[0m 0\n",
      "Pi: 0\n",
      "\u001b[2m\u001b[36m(ParameterServer pid=22644)\u001b[0m 0\n",
      "Pi: 0.12570468\n",
      "\u001b[2m\u001b[36m(ParameterServer pid=22644)\u001b[0m 4\n",
      "Pi: 0.25133524\n",
      "\u001b[2m\u001b[36m(ParameterServer pid=22644)\u001b[0m 8\n",
      "Pi: 0.25133524\n",
      "\u001b[2m\u001b[36m(ParameterServer pid=22644)\u001b[0m 8\n",
      "Pi: 0.25133524\n",
      "\u001b[2m\u001b[36m(ParameterServer pid=22644)\u001b[0m 8\n",
      "Pi: 0.25133524\n",
      "\u001b[2m\u001b[36m(ParameterServer pid=22644)\u001b[0m 8\n",
      "Pi: 0.50263996\n",
      "\u001b[2m\u001b[36m(ParameterServer pid=22644)\u001b[0m 8\n",
      "Pi: 0.50263996\n",
      "\u001b[2m\u001b[36m(ParameterServer pid=22644)\u001b[0m 8\n",
      "\u001b[2m\u001b[36m(ParameterServer pid=22644)\u001b[0m 8\n",
      "Pi: 0.50263996\n",
      "Pi: 0.50263996\n",
      "\u001b[2m\u001b[36m(ParameterServer pid=22644)\u001b[0m 8\n",
      "Pi: 0.50263996\n",
      "\u001b[2m\u001b[36m(ParameterServer pid=22644)\u001b[0m 8\n",
      "Pi: 0.7539198\n",
      "\u001b[2m\u001b[36m(ParameterServer pid=22644)\u001b[0m 8\n",
      "Pi: 0.7539198\n",
      "\u001b[2m\u001b[36m(ParameterServer pid=22644)\u001b[0m 8\n",
      "Pi: 0.7539198\n",
      "\u001b[2m\u001b[36m(ParameterServer pid=22644)\u001b[0m 8\n",
      "Pi: 0.7539198\n",
      "\u001b[2m\u001b[36m(ParameterServer pid=22644)\u001b[0m 8\n",
      "Pi: 0.81676528\n",
      "\u001b[2m\u001b[36m(ParameterServer pid=22644)\u001b[0m 8\n",
      "Pi: 1.00533152\n",
      "\u001b[2m\u001b[36m(ParameterServer pid=22644)\u001b[0m 8\n",
      "Pi: 1.00533152\n",
      "\u001b[2m\u001b[36m(ParameterServer pid=22644)\u001b[0m 8\n",
      "\u001b[2m\u001b[36m(ParameterServer pid=22644)\u001b[0m 8\n",
      "Pi: 1.00533152\n",
      "Pi: 1.00533152\n",
      "\u001b[2m\u001b[36m(ParameterServer pid=22644)\u001b[0m 8\n",
      "Pi: 1.22528544\n",
      "\u001b[2m\u001b[36m(ParameterServer pid=22644)\u001b[0m 8\n",
      "Pi: 1.25669136\n",
      "\u001b[2m\u001b[36m(ParameterServer pid=22644)\u001b[0m 8\n",
      "Pi: 1.25669136\n",
      "\u001b[2m\u001b[36m(ParameterServer pid=22644)\u001b[0m 8\n",
      "Pi: 1.25669136\n",
      "\u001b[2m\u001b[36m(ParameterServer pid=22644)\u001b[0m 8\n",
      "Pi: 1.25669136\n",
      "\u001b[2m\u001b[36m(ParameterServer pid=22644)\u001b[0m 8\n",
      "Pi: 1.50806248\n",
      "\u001b[2m\u001b[36m(ParameterServer pid=22644)\u001b[0m 8\n",
      "Pi: 1.50806248\n",
      "\u001b[2m\u001b[36m(ParameterServer pid=22644)\u001b[0m 8\n",
      "Pi: 1.50806248\n",
      "\u001b[2m\u001b[36m(ParameterServer pid=22644)\u001b[0m 8\n",
      "Pi: 1.50806248\n",
      "\u001b[2m\u001b[36m(ParameterServer pid=22644)\u001b[0m 8\n",
      "Pi: 1.728028\n",
      "\u001b[2m\u001b[36m(ParameterServer pid=22644)\u001b[0m 8\n",
      "Pi: 1.75943304\n",
      "\u001b[2m\u001b[36m(ParameterServer pid=22644)\u001b[0m 8\n",
      "Pi: 1.75943304\n",
      "\u001b[2m\u001b[36m(ParameterServer pid=22644)\u001b[0m 8\n",
      "Pi: 1.75943304\n",
      "\u001b[2m\u001b[36m(ParameterServer pid=22644)\u001b[0m 8\n",
      "Pi: 1.75943304\n",
      "\u001b[2m\u001b[36m(ParameterServer pid=22644)\u001b[0m 8\n",
      "Pi: 2.01076356\n",
      "\u001b[2m\u001b[36m(ParameterServer pid=22644)\u001b[0m 8\n",
      "Pi: 2.01076356\n",
      "\u001b[2m\u001b[36m(ParameterServer pid=22644)\u001b[0m 8\n",
      "Pi: 2.01076356\n",
      "\u001b[2m\u001b[36m(ParameterServer pid=22644)\u001b[0m 8\n",
      "Pi: 2.01076356\n",
      "\u001b[2m\u001b[36m(ParameterServer pid=22644)\u001b[0m 8\n",
      "Pi: 2.04216208\n",
      "\u001b[2m\u001b[36m(ParameterServer pid=22644)\u001b[0m 8\n",
      "Pi: 2.26206344\n",
      "\u001b[2m\u001b[36m(ParameterServer pid=22644)\u001b[0m 8\n",
      "Pi: 2.26206344\n",
      "\u001b[2m\u001b[36m(ParameterServer pid=22644)\u001b[0m 8\n",
      "Pi: 2.26206344\n",
      "\u001b[2m\u001b[36m(ParameterServer pid=22644)\u001b[0m 8\n",
      "Pi: 2.26206344\n",
      "\u001b[2m\u001b[36m(ParameterServer pid=22644)\u001b[0m 8\n",
      "Pi: 2.29345608\n",
      "\u001b[2m\u001b[36m(ParameterServer pid=22644)\u001b[0m 8\n",
      "Pi: 2.51331208\n",
      "\u001b[2m\u001b[36m(ParameterServer pid=22644)\u001b[0m 8\n",
      "Pi: 2.51331208\n",
      "\u001b[2m\u001b[36m(ParameterServer pid=22644)\u001b[0m 8\n",
      "Pi: 2.5761362\n",
      "\u001b[2m\u001b[36m(ParameterServer pid=22644)\u001b[0m 10\n",
      "Pi: 2.5761362\n",
      "\u001b[2m\u001b[36m(ParameterServer pid=22644)\u001b[0m 10\n",
      "Pi: 2.63897836\n",
      "\u001b[2m\u001b[36m(ParameterServer pid=22644)\u001b[0m 10\n",
      "Pi: 2.63897836\n",
      "\u001b[2m\u001b[36m(ParameterServer pid=22644)\u001b[0m 10\n",
      "Pi: 2.7018\n",
      "\u001b[2m\u001b[36m(ParameterServer pid=22644)\u001b[0m 10\n",
      "Pi: 2.7018\n",
      "\u001b[2m\u001b[36m(ParameterServer pid=22644)\u001b[0m 10\n",
      "Pi: 2.76463036\n",
      "\u001b[2m\u001b[36m(ParameterServer pid=22644)\u001b[0m 10\n",
      "Pi: 2.76463036\n",
      "\u001b[2m\u001b[36m(ParameterServer pid=22644)\u001b[0m 10\n",
      "Pi: 2.82747024\n",
      "\u001b[2m\u001b[36m(ParameterServer pid=22644)\u001b[0m 10\n",
      "Pi: 2.82747024\n",
      "\u001b[2m\u001b[36m(ParameterServer pid=22644)\u001b[0m 10\n",
      "Pi: 2.89033636\n",
      "\u001b[2m\u001b[36m(ParameterServer pid=22644)\u001b[0m 10\n",
      "Pi: 2.89033636\n",
      "\u001b[2m\u001b[36m(ParameterServer pid=22644)\u001b[0m 10\n",
      "Pi: 2.95317276\n",
      "\u001b[2m\u001b[36m(ParameterServer pid=22644)\u001b[0m 10\n",
      "Pi: 2.95317276\n",
      "\u001b[2m\u001b[36m(ParameterServer pid=22644)\u001b[0m 10\n",
      "Pi: 3.01600464\n",
      "\u001b[2m\u001b[36m(ParameterServer pid=22644)\u001b[0m 10\n",
      "Pi: 3.01600464\n",
      "\u001b[2m\u001b[36m(ParameterServer pid=22644)\u001b[0m 10\n",
      "Pi: 3.07881736\n",
      "\u001b[2m\u001b[36m(ParameterServer pid=22644)\u001b[0m 10\n",
      "Pi: 3.07881736\n",
      "\u001b[2m\u001b[36m(ParameterServer pid=22644)\u001b[0m 10\n",
      "Pi: 3.14166344\n",
      "\u001b[2m\u001b[36m(ParameterServer pid=22644)\u001b[0m 10\n",
      "Pi: 3.14166344\n",
      "\u001b[2m\u001b[36m(ParameterServer pid=22644)\u001b[0m 10\n",
      "Pi: 3.14166344\n",
      "\u001b[2m\u001b[36m(ParameterServer pid=22644)\u001b[0m 10\n",
      "Pi: 3.14166344\n",
      "\u001b[2m\u001b[36m(ParameterServer pid=22644)\u001b[0m 10\n",
      "Pi: 3.14166344\n",
      "\u001b[2m\u001b[36m(ParameterServer pid=22644)\u001b[0m 10\n",
      "Pi: 3.14166344\n",
      "\u001b[2m\u001b[36m(ParameterServer pid=22644)\u001b[0m 10\n",
      "Pi: 3.14166344\n",
      "\u001b[2m\u001b[36m(ParameterServer pid=22644)\u001b[0m 10\n",
      "Pi: 3.14166344\n",
      "\u001b[2m\u001b[36m(ParameterServer pid=22644)\u001b[0m 10\n",
      "Pi: 3.14166344\n",
      "\u001b[2m\u001b[36m(ParameterServer pid=22644)\u001b[0m 10\n",
      "Pi: 3.14166344\n",
      "\u001b[2m\u001b[36m(ParameterServer pid=22644)\u001b[0m 10\n"
     ]
    }
   ],
   "source": [
    "print([sampling_task.remote(NUM_SAMPLES_PER_TASK, i, pi_supervisor_actor) for i in range(NUM_SAMPLING_TASKS)])\n",
    "\n",
    "\n",
    "pi_counts = 10\n",
    "while pi_counts > 0:\n",
    "    pi = ray.get(pi_supervisor_actor.get_progress.remote())\n",
    "    print(f\"Pi: {pi}\")\n",
    "    if abs(pi-3.14) <= 0.01:\n",
    "        pi_counts -= 1\n",
    "\n",
    "    time.sleep(2)"
   ]
  },
  {
   "cell_type": "markdown",
   "id": "61ff181af23dc9e0",
   "metadata": {
    "collapsed": false
   },
   "source": [
    "## Clean up  - Clean up the environemnt\n",
    "\n",
    "**GOAL:** The goal of this exercise is to close the environment once you finish play with ray `ray.shutdown`."
   ]
  },
  {
   "cell_type": "code",
   "execution_count": 8,
   "id": "fc7e639a185eeb37",
   "metadata": {
    "collapsed": false
   },
   "outputs": [],
   "source": [
    "# ray.shutdown()"
   ]
  }
 ],
 "metadata": {
  "kernelspec": {
   "display_name": "Python 3",
   "language": "python",
   "name": "python3"
  },
  "language_info": {
   "codemirror_mode": {
    "name": "ipython",
    "version": 3
   },
   "file_extension": ".py",
   "mimetype": "text/x-python",
   "name": "python",
   "nbconvert_exporter": "python",
   "pygments_lexer": "ipython3",
   "version": "3.9.13"
  }
 },
 "nbformat": 4,
 "nbformat_minor": 5
}
